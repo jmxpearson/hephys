{
 "metadata": {
  "name": "",
  "signature": "sha256:048e7e9f06a689b6b011617097c816c85a347152d9536f96387a25083372ae40"
 },
 "nbformat": 3,
 "nbformat_minor": 0,
 "worksheets": [
  {
   "cells": [
    {
     "cell_type": "markdown",
     "metadata": {},
     "source": [
      "# Cluster finding and counting in images: an example\n",
      "\n",
      "This quick demo shows how we can use code in the `physutils.py` module to label clusters in an image and count the sizes of the resulting clusters."
     ]
    },
    {
     "cell_type": "markdown",
     "metadata": {},
     "source": [
      "First off, let's do some bookkeeping:"
     ]
    },
    {
     "cell_type": "code",
     "collapsed": false,
     "input": [
      "!cd ~/code/hephys"
     ],
     "language": "python",
     "metadata": {},
     "outputs": [],
     "prompt_number": 11
    },
    {
     "cell_type": "code",
     "collapsed": false,
     "input": [
      "import numpy as np\n",
      "from physutils import *"
     ],
     "language": "python",
     "metadata": {},
     "outputs": [],
     "prompt_number": 12
    },
    {
     "cell_type": "code",
     "collapsed": false,
     "input": [
      "%matplotlib inline\n",
      "import matplotlib.pyplot as plt\n",
      "import matplotlib.cm as cm\n",
      "import matplotlib.image as mpimg"
     ],
     "language": "python",
     "metadata": {},
     "outputs": [],
     "prompt_number": 13
    },
    {
     "cell_type": "markdown",
     "metadata": {},
     "source": [
      "Now, we'll load an image, convert it to grayscale, and plot:"
     ]
    },
    {
     "cell_type": "code",
     "collapsed": false,
     "input": [
      "orig_img = mpimg.imread('circles.png')"
     ],
     "language": "python",
     "metadata": {},
     "outputs": [],
     "prompt_number": 16
    },
    {
     "cell_type": "code",
     "collapsed": false,
     "input": [
      "def rgb2gray(rgb):\n",
      "\n",
      "    r, g, b = rgb[:,:,0], rgb[:,:,1], rgb[:,:,2]\n",
      "    gray = 0.2989 * r + 0.5870 * g + 0.1140 * b\n",
      "\n",
      "    return gray\n"
     ],
     "language": "python",
     "metadata": {},
     "outputs": [],
     "prompt_number": 17
    },
    {
     "cell_type": "code",
     "collapsed": false,
     "input": [
      "img = np.around(rgb2gray(orig_img), 3)\n",
      "plt.imshow(img, cmap = cm.Greys_r)\n",
      "plt.show()"
     ],
     "language": "python",
     "metadata": {},
     "outputs": [
      {
       "metadata": {},
       "output_type": "display_data",
       "png": "[encoded data removed]",
       "text": [
        "<matplotlib.figure.Figure at 0x4ea28d0>"
       ]
      }
     ],
     "prompt_number": 18
    },
    {
     "cell_type": "markdown",
     "metadata": {},
     "source": [
      "To use the `label_clusters` function, we need to say what is and isn't background, so we convert the numpy array corresponding to the image to an array of Booleans:"
     ]
    },
    {
     "cell_type": "code",
     "collapsed": false,
     "input": [
      "bimg = rgb2gray(orig_img) < 0.9  # Treat black pixels as those to be labeled"
     ],
     "language": "python",
     "metadata": {},
     "outputs": [],
     "prompt_number": 19
    },
    {
     "cell_type": "markdown",
     "metadata": {},
     "source": [
      "Now we can label the image. Note that because the cluster finding function uses a 4-neighborhood rather than an 8-neighborhood for adjacency, some very thin lines end up as disconnected clusters."
     ]
    },
    {
     "cell_type": "code",
     "collapsed": false,
     "input": [
      "clust_map = label_clusters(bimg)\n",
      "plt.imshow(clust_map, cmap=cm.Greys)\n",
      "plt.show()"
     ],
     "language": "python",
     "metadata": {},
     "outputs": [
      {
       "metadata": {},
       "output_type": "display_data",
       "png": "[encoded data removed]",
       "text": [
        "<matplotlib.figure.Figure at 0x50f3390>"
       ]
      }
     ],
     "prompt_number": 20
    },
    {
     "cell_type": "markdown",
     "metadata": {},
     "source": [
      "Now let's get the sizes of all the nonzero clusters:"
     ]
    },
    {
     "cell_type": "code",
     "collapsed": false,
     "input": [
      "get_cluster_sizes(clust_map)"
     ],
     "language": "python",
     "metadata": {},
     "outputs": [
      {
       "metadata": {},
       "output_type": "pyout",
       "prompt_number": 21,
       "text": [
        "array([    6,     6,     1,     1, 30287,     1,     8,     1, 55815,\n",
        "           1,     3,     1, 12042])"
       ]
      }
     ],
     "prompt_number": 21
    }
   ],
   "metadata": {}
  }
 ]
}