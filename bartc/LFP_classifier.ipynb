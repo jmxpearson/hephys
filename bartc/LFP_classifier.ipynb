{
 "metadata": {
  "name": "",
  "signature": "sha256:e7d434748b8662a72bd4d5fa6b163bffa0c3f8305195ee41bb17efafed9b234c"
 },
 "nbformat": 3,
 "nbformat_minor": 0,
 "worksheets": [
  {
   "cells": [
    {
     "cell_type": "markdown",
     "metadata": {},
     "source": [
      "# Can we use local field potentials to predict trial stops?"
     ]
    },
    {
     "cell_type": "code",
     "collapsed": false,
     "input": [
      "import numpy as np\n",
      "import pandas as pd\n",
      "import physutils\n",
      "from hephys import dbio\n",
      "import os\n",
      "from __future__ import division\n",
      "import matplotlib.pyplot as plt\n",
      "%matplotlib inline\n",
      "plt.style.use('ggplot')\n",
      "np.random.seed(12345)"
     ],
     "language": "python",
     "metadata": {},
     "outputs": [],
     "prompt_number": 1
    },
    {
     "cell_type": "markdown",
     "metadata": {},
     "source": [
      "## Load Data"
     ]
    },
    {
     "cell_type": "code",
     "collapsed": false,
     "input": [
      "# which patient, dataset to plot\n",
      "dtup = 18, 1"
     ],
     "language": "python",
     "metadata": {},
     "outputs": [],
     "prompt_number": 2
    },
    {
     "cell_type": "code",
     "collapsed": false,
     "input": [
      "# load data\n",
      "os.chdir(os.path.expanduser('~/code/hephys/bartc'))\n",
      "dbname = os.path.expanduser('~/data/bartc/plexdata/bartc.hdf5')\n",
      "lfpraw = dbio.fetch_all_such_LFP(dbname, *dtup)"
     ],
     "language": "python",
     "metadata": {},
     "outputs": [],
     "prompt_number": 3
    },
    {
     "cell_type": "markdown",
     "metadata": {},
     "source": [
      "## Preprocess Data"
     ]
    },
    {
     "cell_type": "code",
     "collapsed": false,
     "input": [
      "lfp = lfpraw.demean()"
     ],
     "language": "python",
     "metadata": {},
     "outputs": [],
     "prompt_number": 4
    },
    {
     "cell_type": "code",
     "collapsed": false,
     "input": [
      "filters = ['delta', 'theta', 'alpha', 'beta', 'gamma']\n",
      "lfp = lfp.bandlimit(filters)"
     ],
     "language": "python",
     "metadata": {},
     "outputs": [],
     "prompt_number": 5
    },
    {
     "cell_type": "code",
     "collapsed": false,
     "input": [
      "# decimate to 40 Hz, get instantaneous power, censor, and z-score each channel\n",
      "lfp = lfp.decimate(5).instpwr().censor().zscore()"
     ],
     "language": "python",
     "metadata": {},
     "outputs": [],
     "prompt_number": 6
    },
    {
     "cell_type": "code",
     "collapsed": false,
     "input": [
      "# get events\n",
      "event = 'stop inflating'  # event to split data around\n",
      "evt = dbio.fetch(dbname, 'events', *dtup)\n",
      "stops = evt[[event] + ['banked']].dropna()[event]"
     ],
     "language": "python",
     "metadata": {},
     "outputs": [],
     "prompt_number": 7
    },
    {
     "cell_type": "markdown",
     "metadata": {},
     "source": [
      "## Get True Positives"
     ]
    },
    {
     "cell_type": "markdown",
     "metadata": {},
     "source": [
      "The classifier will use a chunk of data preceding a true positive. We will turn each stop into three training examples: the exact stop time, $\\Delta/2$ seconds before, and $\\Delta$ seconds before. Effectively, we want to look for a signal in common to all those epochs, which would only give us accuracy to within $\\Delta$."
     ]
    },
    {
     "cell_type": "code",
     "collapsed": false,
     "input": [
      "Delta = 1\n",
      "truepos = pd.DataFrame(pd.concat([stops, stops - 0.5 * Delta, stops - Delta]).values,\n",
      "                       columns=['time'])\n",
      "truepos['outcome'] = 1"
     ],
     "language": "python",
     "metadata": {},
     "outputs": [],
     "prompt_number": 8
    },
    {
     "cell_type": "markdown",
     "metadata": {},
     "source": [
      "## Get True Negatives"
     ]
    },
    {
     "cell_type": "markdown",
     "metadata": {},
     "source": [
      "We will choose as true negatives an equal number of random times that are not within a fixed interval of any true positives."
     ]
    },
    {
     "cell_type": "code",
     "collapsed": false,
     "input": [
      "def within_range(test_value, anchor_list, radius_tuple):\n",
      "    # return true when test_value is not within a radius tuple\n",
      "    # of any value in anchor_list \n",
      "\n",
      "    dist = test_value - np.array(anchor_list)\n",
      "    within_range = np.logical_and(dist > radius_tuple[0],\n",
      "        dist < radius_tuple[1]) \n",
      "    return np.any(within_range)"
     ],
     "language": "python",
     "metadata": {},
     "outputs": [],
     "prompt_number": 9
    },
    {
     "cell_type": "code",
     "collapsed": false,
     "input": [
      "Tpre = -2  # time before stop to exclude\n",
      "Tpost = 1.5  # time after stop to exclude\n",
      "dt = (1. / lfp.meta['sr']).round(3) "
     ],
     "language": "python",
     "metadata": {},
     "outputs": [],
     "prompt_number": 10
    },
    {
     "cell_type": "code",
     "collapsed": false,
     "input": [
      "maxT = lfp.index[-1]\n",
      "Nrand = truepos.shape[0]  # number to generate\n",
      "candidates = np.random.rand(Nrand) * (maxT - Tpre) + Tpre\n",
      "candidates = np.around(candidates / dt) * dt  # round to nearest dt\n",
      "candidates = np.unique(candidates)\n",
      "rand_times = filter(lambda x: ~within_range(x, truepos['time'], \n",
      "                                            (Tpre, Tpost)), candidates)[:Nrand]\n",
      "trueneg = pd.DataFrame(rand_times, columns=['time'])\n",
      "trueneg['outcome'] = 0"
     ],
     "language": "python",
     "metadata": {},
     "outputs": [],
     "prompt_number": 11
    },
    {
     "cell_type": "markdown",
     "metadata": {},
     "source": [
      "## Concatenate true and false positives together to form training labels:"
     ]
    },
    {
     "cell_type": "code",
     "collapsed": false,
     "input": [
      "allevt = pd.concat([truepos, trueneg])\n",
      "allevt = allevt.set_index('time')"
     ],
     "language": "python",
     "metadata": {},
     "outputs": [],
     "prompt_number": 12
    },
    {
     "cell_type": "markdown",
     "metadata": {},
     "source": [
      "## Grab band-averaged power prior to each event"
     ]
    },
    {
     "cell_type": "code",
     "collapsed": false,
     "input": [
      "meanpwr = pd.rolling_mean(lfp.dataframe, np.ceil(np.abs(Tpre) / dt), min_periods=1)\n",
      "trainset = pd.concat([allevt, meanpwr], axis=1, join='inner')\n",
      "trainset = trainset.dropna()  # can't send glmnet any row with a NaN"
     ],
     "language": "python",
     "metadata": {},
     "outputs": [],
     "prompt_number": 17
    },
    {
     "cell_type": "markdown",
     "metadata": {},
     "source": [
      "## Run sparse regression in R"
     ]
    },
    {
     "cell_type": "code",
     "collapsed": false,
     "input": [],
     "language": "python",
     "metadata": {},
     "outputs": []
    }
   ],
   "metadata": {}
  }
 ]
}