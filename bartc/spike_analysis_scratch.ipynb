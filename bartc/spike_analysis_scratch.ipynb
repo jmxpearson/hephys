{
 "metadata": {
  "name": "",
  "signature": "sha256:89e50bbfd86980c3bf008958fbb60f9b2b5fb8e2b47826e60dbe5e1bd726fcef"
 },
 "nbformat": 3,
 "nbformat_minor": 0,
 "worksheets": [
  {
   "cells": [
    {
     "cell_type": "code",
     "collapsed": false,
     "input": [
      "from __future__ import division\n",
      "import numpy as np\n",
      "import pandas as pd\n",
      "import physutils as phys\n",
      "import hephys.dbio as dbio\n",
      "import os\n",
      "import matplotlib.pyplot as plt\n",
      "import scipy.stats as stats\n",
      "%matplotlib inline\n",
      "plt.style.use('ggplot')"
     ],
     "language": "python",
     "metadata": {},
     "outputs": [],
     "prompt_number": 1
    },
    {
     "cell_type": "markdown",
     "metadata": {},
     "source": [
      "# Basic properties"
     ]
    },
    {
     "cell_type": "markdown",
     "metadata": {},
     "source": [
      "Let's get some basic statistics about our population of neurons:"
     ]
    },
    {
     "cell_type": "code",
     "collapsed": false,
     "input": [
      "# open data file\n",
      "dbname = os.path.expanduser('~/data/bartc/plexdata/bartc.hdf5')\n",
      "\n",
      "# get list of all patient, dataset pairs corresponding to behavior\n",
      "evtlist = pd.read_hdf(dbname, '/meta/evlist')\n",
      "\n",
      "# get list of all units\n",
      "spklist = pd.read_hdf(dbname, '/meta/spklist')\n",
      "\n",
      "# remove subject 10, who did a previous version of the task\n",
      "# evtlist = evtlist.query('patient != 10')\n",
      "# spklist = spklist.query('patient != 10')"
     ],
     "language": "python",
     "metadata": {},
     "outputs": [],
     "prompt_number": 2
    },
    {
     "cell_type": "markdown",
     "metadata": {},
     "source": [
      "How many units do we have?"
     ]
    },
    {
     "cell_type": "code",
     "collapsed": false,
     "input": [
      "print \"Number of units: {}\".format(spklist.shape[0])"
     ],
     "language": "python",
     "metadata": {},
     "outputs": [
      {
       "output_type": "stream",
       "stream": "stdout",
       "text": [
        "Number of units: 56\n"
       ]
      }
     ],
     "prompt_number": 3
    },
    {
     "cell_type": "markdown",
     "metadata": {},
     "source": [
      "## Make a histogram of firing rates"
     ]
    },
    {
     "cell_type": "code",
     "collapsed": false,
     "input": [
      "# for each unit, take mean firing rate as the number of spikes divided by the last time stamp\n",
      "# this is only a crude measure and ignores censoring\n",
      "allfr = pd.DataFrame()\n",
      "for _, dtup in spklist.iterrows():\n",
      "    dtup = tuple(dtup)\n",
      "    spks = dbio.fetch(dbname, 'spikes', *dtup)\n",
      "    this_fr = spks[-1:].copy()\n",
      "    this_fr['rate'] = spks.shape[0] / this_fr['time']\n",
      "    allfr = allfr.append(this_fr)"
     ],
     "language": "python",
     "metadata": {},
     "outputs": [],
     "prompt_number": 4
    },
    {
     "cell_type": "code",
     "collapsed": false,
     "input": [
      "# make plot\n",
      "allfr.rate.plot(kind='hist', bins=30);\n",
      "plt.xlabel('Firing Rate (spks/s)');\n",
      "plt.ylabel('Count');"
     ],
     "language": "python",
     "metadata": {},
     "outputs": [
      {
       "metadata": {},
       "output_type": "display_data",
       "png": "[encoded data removed]",
       "text": [
        "<matplotlib.figure.Figure at 0x7fa572fc3c50>"
       ]
      }
     ],
     "prompt_number": 5
    },
    {
     "cell_type": "markdown",
     "metadata": {},
     "source": [
      "## Run a GLM"
     ]
    },
    {
     "cell_type": "markdown",
     "metadata": {},
     "source": [
      "Load and prep our spiking data for use with R's glmnet package:"
     ]
    },
    {
     "cell_type": "code",
     "collapsed": false,
     "input": [
      "%run prep_spike_data"
     ],
     "language": "python",
     "metadata": {},
     "outputs": [
      {
       "output_type": "stream",
       "stream": "stdout",
       "text": [
        "(10, 1, 1, 1)\n",
        "(11, 1, 1, 1)"
       ]
      },
      {
       "output_type": "stream",
       "stream": "stdout",
       "text": [
        "\n",
        "(12, 1, 1, 1)"
       ]
      },
      {
       "output_type": "stream",
       "stream": "stdout",
       "text": [
        "\n",
        "(14, 1, 1, 1)"
       ]
      },
      {
       "output_type": "stream",
       "stream": "stdout",
       "text": [
        "\n",
        "(14, 2, 1, 1)"
       ]
      },
      {
       "output_type": "stream",
       "stream": "stdout",
       "text": [
        "\n",
        "(15, 1, 1, 1)"
       ]
      },
      {
       "output_type": "stream",
       "stream": "stdout",
       "text": [
        "\n",
        "(17, 1, 1, 1)"
       ]
      },
      {
       "output_type": "stream",
       "stream": "stdout",
       "text": [
        "\n",
        "(17, 2, 1, 1)"
       ]
      },
      {
       "output_type": "stream",
       "stream": "stdout",
       "text": [
        "\n",
        "(17, 2, 2, 1)"
       ]
      },
      {
       "output_type": "stream",
       "stream": "stdout",
       "text": [
        "\n",
        "(17, 2, 3, 1)"
       ]
      },
      {
       "output_type": "stream",
       "stream": "stdout",
       "text": [
        "\n",
        "(17, 2, 5, 1)"
       ]
      },
      {
       "output_type": "stream",
       "stream": "stdout",
       "text": [
        "\n",
        "(17, 2, 7, 1)"
       ]
      },
      {
       "output_type": "stream",
       "stream": "stdout",
       "text": [
        "\n",
        "(17, 2, 8, 1)"
       ]
      },
      {
       "output_type": "stream",
       "stream": "stdout",
       "text": [
        "\n",
        "(17, 2, 10, 1)"
       ]
      },
      {
       "output_type": "stream",
       "stream": "stdout",
       "text": [
        "\n",
        "(17, 2, 11, 1)"
       ]
      },
      {
       "output_type": "stream",
       "stream": "stdout",
       "text": [
        "\n",
        "(18, 1, 1, 1)"
       ]
      },
      {
       "output_type": "stream",
       "stream": "stdout",
       "text": [
        "\n",
        "(18, 1, 1, 2)"
       ]
      },
      {
       "output_type": "stream",
       "stream": "stdout",
       "text": [
        "\n",
        "(18, 1, 13, 1)"
       ]
      },
      {
       "output_type": "stream",
       "stream": "stdout",
       "text": [
        "\n",
        "(18, 1, 15, 1)"
       ]
      },
      {
       "output_type": "stream",
       "stream": "stdout",
       "text": [
        "\n",
        "(20, 1, 1, 1)"
       ]
      },
      {
       "output_type": "stream",
       "stream": "stdout",
       "text": [
        "\n",
        "(20, 1, 1, 2)"
       ]
      },
      {
       "output_type": "stream",
       "stream": "stdout",
       "text": [
        "\n",
        "(20, 1, 2, 1)"
       ]
      },
      {
       "output_type": "stream",
       "stream": "stdout",
       "text": [
        "\n",
        "(20, 1, 2, 2)"
       ]
      },
      {
       "output_type": "stream",
       "stream": "stdout",
       "text": [
        "\n",
        "(20, 1, 3, 1)"
       ]
      },
      {
       "output_type": "stream",
       "stream": "stdout",
       "text": [
        "\n",
        "(20, 1, 3, 2)"
       ]
      },
      {
       "output_type": "stream",
       "stream": "stdout",
       "text": [
        "\n",
        "(20, 1, 4, 1)"
       ]
      },
      {
       "output_type": "stream",
       "stream": "stdout",
       "text": [
        "\n",
        "(20, 1, 4, 2)"
       ]
      },
      {
       "output_type": "stream",
       "stream": "stdout",
       "text": [
        "\n",
        "(20, 1, 5, 1)"
       ]
      },
      {
       "output_type": "stream",
       "stream": "stdout",
       "text": [
        "\n",
        "(20, 1, 6, 1)"
       ]
      },
      {
       "output_type": "stream",
       "stream": "stdout",
       "text": [
        "\n",
        "(20, 1, 14, 1)"
       ]
      },
      {
       "output_type": "stream",
       "stream": "stdout",
       "text": [
        "\n",
        "(20, 1, 16, 1)"
       ]
      },
      {
       "output_type": "stream",
       "stream": "stdout",
       "text": [
        "\n",
        "(20, 1, 16, 2)"
       ]
      },
      {
       "output_type": "stream",
       "stream": "stdout",
       "text": [
        "\n",
        "(21, 1, 1, 1)"
       ]
      },
      {
       "output_type": "stream",
       "stream": "stdout",
       "text": [
        "\n",
        "(22, 1, 1, 1)"
       ]
      },
      {
       "output_type": "stream",
       "stream": "stdout",
       "text": [
        "\n",
        "(22, 1, 1, 2)"
       ]
      },
      {
       "output_type": "stream",
       "stream": "stdout",
       "text": [
        "\n",
        "(22, 1, 1, 3)"
       ]
      },
      {
       "output_type": "stream",
       "stream": "stdout",
       "text": [
        "\n",
        "(22, 1, 2, 1)"
       ]
      },
      {
       "output_type": "stream",
       "stream": "stdout",
       "text": [
        "\n",
        "(22, 1, 7, 3)"
       ]
      },
      {
       "output_type": "stream",
       "stream": "stdout",
       "text": [
        "\n",
        "(22, 1, 8, 1)"
       ]
      },
      {
       "output_type": "stream",
       "stream": "stdout",
       "text": [
        "\n",
        "(22, 1, 10, 1)"
       ]
      },
      {
       "output_type": "stream",
       "stream": "stdout",
       "text": [
        "\n",
        "(22, 1, 10, 2)"
       ]
      },
      {
       "output_type": "stream",
       "stream": "stdout",
       "text": [
        "\n",
        "(22, 1, 11, 1)"
       ]
      },
      {
       "output_type": "stream",
       "stream": "stdout",
       "text": [
        "\n",
        "(22, 1, 12, 1)"
       ]
      },
      {
       "output_type": "stream",
       "stream": "stdout",
       "text": [
        "\n",
        "(22, 1, 13, 1)"
       ]
      },
      {
       "output_type": "stream",
       "stream": "stdout",
       "text": [
        "\n",
        "(22, 1, 15, 1)"
       ]
      },
      {
       "output_type": "stream",
       "stream": "stdout",
       "text": [
        "\n",
        "(23, 1, 3, 1)"
       ]
      },
      {
       "output_type": "stream",
       "stream": "stdout",
       "text": [
        "\n",
        "(23, 1, 6, 1)"
       ]
      },
      {
       "output_type": "stream",
       "stream": "stdout",
       "text": [
        "\n",
        "(23, 1, 9, 1)"
       ]
      },
      {
       "output_type": "stream",
       "stream": "stdout",
       "text": [
        "\n",
        "(23, 1, 9, 2)"
       ]
      },
      {
       "output_type": "stream",
       "stream": "stdout",
       "text": [
        "\n",
        "(23, 1, 10, 1)"
       ]
      },
      {
       "output_type": "stream",
       "stream": "stdout",
       "text": [
        "\n",
        "(23, 1, 13, 1)"
       ]
      },
      {
       "output_type": "stream",
       "stream": "stdout",
       "text": [
        "\n",
        "(24, 1, 1, 1)"
       ]
      },
      {
       "output_type": "stream",
       "stream": "stdout",
       "text": [
        "\n",
        "(25, 1, 1, 1)"
       ]
      },
      {
       "output_type": "stream",
       "stream": "stdout",
       "text": [
        "\n",
        "(25, 2, 1, 1)"
       ]
      },
      {
       "output_type": "stream",
       "stream": "stdout",
       "text": [
        "\n",
        "(30, 1, 11, 1)"
       ]
      },
      {
       "output_type": "stream",
       "stream": "stdout",
       "text": [
        "\n",
        "(30, 1, 16, 1)"
       ]
      },
      {
       "output_type": "stream",
       "stream": "stdout",
       "text": [
        "\n"
       ]
      }
     ],
     "prompt_number": 6
    },
    {
     "cell_type": "markdown",
     "metadata": {},
     "source": [
      "Call an R script to fit the model and perform cross-validation (note that it matters whether this is done with $\\lambda_{\\mathrm{min}}$ or $\\lambda_{\\mathrm{1se}}$; default is currently the latter):"
     ]
    },
    {
     "cell_type": "code",
     "collapsed": false,
     "input": [
      "!Rscript perform_glm_analysis.R spikes"
     ],
     "language": "python",
     "metadata": {},
     "outputs": [
      {
       "output_type": "stream",
       "stream": "stdout",
       "text": [
        "[1] \"Performing spike analysis...\"\r\n",
        "[1] \"~/data/bartc/10.1.1.1.spkglmdata.csv\"\r\n"
       ]
      },
      {
       "output_type": "stream",
       "stream": "stdout",
       "text": [
        "[1] \"~/data/bartc/11.1.1.1.spkglmdata.csv\"\r\n"
       ]
      },
      {
       "output_type": "stream",
       "stream": "stdout",
       "text": [
        "[1] \"~/data/bartc/12.1.1.1.spkglmdata.csv\"\r\n"
       ]
      },
      {
       "output_type": "stream",
       "stream": "stdout",
       "text": [
        "[1] \"~/data/bartc/14.1.1.1.spkglmdata.csv\"\r\n"
       ]
      },
      {
       "output_type": "stream",
       "stream": "stdout",
       "text": [
        "[1] \"~/data/bartc/14.2.1.1.spkglmdata.csv\"\r\n"
       ]
      },
      {
       "output_type": "stream",
       "stream": "stdout",
       "text": [
        "[1] \"~/data/bartc/15.1.1.1.spkglmdata.csv\"\r\n"
       ]
      },
      {
       "output_type": "stream",
       "stream": "stdout",
       "text": [
        "[1] \"~/data/bartc/17.1.1.1.spkglmdata.csv\"\r\n"
       ]
      },
      {
       "output_type": "stream",
       "stream": "stdout",
       "text": [
        "[1] \"~/data/bartc/17.2.1.1.spkglmdata.csv\"\r\n"
       ]
      },
      {
       "output_type": "stream",
       "stream": "stdout",
       "text": [
        "[1] \"~/data/bartc/17.2.2.1.spkglmdata.csv\"\r\n"
       ]
      },
      {
       "output_type": "stream",
       "stream": "stdout",
       "text": [
        "[1] \"~/data/bartc/17.2.3.1.spkglmdata.csv\"\r\n"
       ]
      },
      {
       "output_type": "stream",
       "stream": "stdout",
       "text": [
        "[1] \"~/data/bartc/17.2.5.1.spkglmdata.csv\"\r\n"
       ]
      },
      {
       "output_type": "stream",
       "stream": "stdout",
       "text": [
        "[1] \"~/data/bartc/17.2.7.1.spkglmdata.csv\"\r\n"
       ]
      },
      {
       "output_type": "stream",
       "stream": "stdout",
       "text": [
        "[1] \"~/data/bartc/17.2.8.1.spkglmdata.csv\"\r\n"
       ]
      },
      {
       "output_type": "stream",
       "stream": "stdout",
       "text": [
        "[1] \"~/data/bartc/17.2.10.1.spkglmdata.csv\"\r\n"
       ]
      },
      {
       "output_type": "stream",
       "stream": "stdout",
       "text": [
        "[1] \"~/data/bartc/17.2.11.1.spkglmdata.csv\"\r\n"
       ]
      },
      {
       "output_type": "stream",
       "stream": "stdout",
       "text": [
        "[1] \"~/data/bartc/18.1.1.1.spkglmdata.csv\"\r\n"
       ]
      },
      {
       "output_type": "stream",
       "stream": "stdout",
       "text": [
        "[1] \"~/data/bartc/18.1.1.2.spkglmdata.csv\"\r\n"
       ]
      },
      {
       "output_type": "stream",
       "stream": "stdout",
       "text": [
        "[1] \"~/data/bartc/18.1.13.1.spkglmdata.csv\"\r\n"
       ]
      },
      {
       "output_type": "stream",
       "stream": "stdout",
       "text": [
        "[1] \"~/data/bartc/18.1.15.1.spkglmdata.csv\"\r\n"
       ]
      },
      {
       "output_type": "stream",
       "stream": "stdout",
       "text": [
        "[1] \"~/data/bartc/20.1.1.1.spkglmdata.csv\"\r\n"
       ]
      },
      {
       "output_type": "stream",
       "stream": "stdout",
       "text": [
        "[1] \"~/data/bartc/20.1.1.2.spkglmdata.csv\"\r\n"
       ]
      },
      {
       "output_type": "stream",
       "stream": "stdout",
       "text": [
        "[1] \"~/data/bartc/20.1.2.1.spkglmdata.csv\"\r\n"
       ]
      },
      {
       "output_type": "stream",
       "stream": "stdout",
       "text": [
        "[1] \"~/data/bartc/20.1.2.2.spkglmdata.csv\"\r\n"
       ]
      },
      {
       "output_type": "stream",
       "stream": "stdout",
       "text": [
        "[1] \"~/data/bartc/20.1.3.1.spkglmdata.csv\"\r\n"
       ]
      },
      {
       "output_type": "stream",
       "stream": "stdout",
       "text": [
        "[1] \"~/data/bartc/20.1.3.2.spkglmdata.csv\"\r\n"
       ]
      },
      {
       "output_type": "stream",
       "stream": "stdout",
       "text": [
        "[1] \"~/data/bartc/20.1.4.1.spkglmdata.csv\"\r\n"
       ]
      },
      {
       "output_type": "stream",
       "stream": "stdout",
       "text": [
        "[1] \"~/data/bartc/20.1.4.2.spkglmdata.csv\"\r\n"
       ]
      },
      {
       "output_type": "stream",
       "stream": "stdout",
       "text": [
        "[1] \"~/data/bartc/20.1.5.1.spkglmdata.csv\"\r\n"
       ]
      },
      {
       "output_type": "stream",
       "stream": "stdout",
       "text": [
        "[1] \"~/data/bartc/20.1.6.1.spkglmdata.csv\"\r\n"
       ]
      },
      {
       "output_type": "stream",
       "stream": "stdout",
       "text": [
        "[1] \"~/data/bartc/20.1.14.1.spkglmdata.csv\"\r\n"
       ]
      },
      {
       "output_type": "stream",
       "stream": "stdout",
       "text": [
        "[1] \"~/data/bartc/20.1.16.1.spkglmdata.csv\"\r\n"
       ]
      },
      {
       "output_type": "stream",
       "stream": "stdout",
       "text": [
        "[1] \"~/data/bartc/20.1.16.2.spkglmdata.csv\"\r\n"
       ]
      },
      {
       "output_type": "stream",
       "stream": "stdout",
       "text": [
        "[1] \"~/data/bartc/21.1.1.1.spkglmdata.csv\"\r\n"
       ]
      },
      {
       "output_type": "stream",
       "stream": "stdout",
       "text": [
        "[1] \"~/data/bartc/22.1.1.1.spkglmdata.csv\"\r\n"
       ]
      },
      {
       "output_type": "stream",
       "stream": "stdout",
       "text": [
        "[1] \"~/data/bartc/22.1.1.2.spkglmdata.csv\"\r\n"
       ]
      },
      {
       "output_type": "stream",
       "stream": "stdout",
       "text": [
        "[1] \"~/data/bartc/22.1.1.3.spkglmdata.csv\"\r\n"
       ]
      },
      {
       "output_type": "stream",
       "stream": "stdout",
       "text": [
        "[1] \"~/data/bartc/22.1.2.1.spkglmdata.csv\"\r\n"
       ]
      },
      {
       "output_type": "stream",
       "stream": "stdout",
       "text": [
        "[1] \"~/data/bartc/22.1.7.3.spkglmdata.csv\"\r\n"
       ]
      },
      {
       "output_type": "stream",
       "stream": "stdout",
       "text": [
        "[1] \"~/data/bartc/22.1.8.1.spkglmdata.csv\"\r\n"
       ]
      },
      {
       "output_type": "stream",
       "stream": "stdout",
       "text": [
        "[1] \"~/data/bartc/22.1.10.1.spkglmdata.csv\"\r\n"
       ]
      },
      {
       "output_type": "stream",
       "stream": "stdout",
       "text": [
        "[1] \"~/data/bartc/22.1.10.2.spkglmdata.csv\"\r\n"
       ]
      },
      {
       "output_type": "stream",
       "stream": "stdout",
       "text": [
        "[1] \"~/data/bartc/22.1.11.1.spkglmdata.csv\"\r\n"
       ]
      },
      {
       "output_type": "stream",
       "stream": "stdout",
       "text": [
        "[1] \"~/data/bartc/22.1.12.1.spkglmdata.csv\"\r\n"
       ]
      },
      {
       "output_type": "stream",
       "stream": "stdout",
       "text": [
        "[1] \"~/data/bartc/22.1.13.1.spkglmdata.csv\"\r\n"
       ]
      },
      {
       "output_type": "stream",
       "stream": "stdout",
       "text": [
        "[1] \"~/data/bartc/22.1.15.1.spkglmdata.csv\"\r\n"
       ]
      },
      {
       "output_type": "stream",
       "stream": "stdout",
       "text": [
        "[1] \"~/data/bartc/23.1.3.1.spkglmdata.csv\"\r\n"
       ]
      },
      {
       "output_type": "stream",
       "stream": "stdout",
       "text": [
        "[1] \"~/data/bartc/23.1.6.1.spkglmdata.csv\"\r\n"
       ]
      },
      {
       "output_type": "stream",
       "stream": "stdout",
       "text": [
        "[1] \"~/data/bartc/23.1.9.1.spkglmdata.csv\"\r\n"
       ]
      },
      {
       "output_type": "stream",
       "stream": "stdout",
       "text": [
        "[1] \"~/data/bartc/23.1.9.2.spkglmdata.csv\"\r\n"
       ]
      },
      {
       "output_type": "stream",
       "stream": "stdout",
       "text": [
        "[1] \"~/data/bartc/23.1.10.1.spkglmdata.csv\"\r\n"
       ]
      },
      {
       "output_type": "stream",
       "stream": "stdout",
       "text": [
        "[1] \"~/data/bartc/23.1.13.1.spkglmdata.csv\"\r\n"
       ]
      },
      {
       "output_type": "stream",
       "stream": "stdout",
       "text": [
        "[1] \"~/data/bartc/24.1.1.1.spkglmdata.csv\"\r\n"
       ]
      },
      {
       "output_type": "stream",
       "stream": "stdout",
       "text": [
        "[1] \"~/data/bartc/25.1.1.1.spkglmdata.csv\"\r\n"
       ]
      },
      {
       "output_type": "stream",
       "stream": "stdout",
       "text": [
        "[1] \"~/data/bartc/25.2.1.1.spkglmdata.csv\"\r\n"
       ]
      },
      {
       "output_type": "stream",
       "stream": "stdout",
       "text": [
        "[1] \"~/data/bartc/30.1.11.1.spkglmdata.csv\"\r\n"
       ]
      },
      {
       "output_type": "stream",
       "stream": "stdout",
       "text": [
        "[1] \"~/data/bartc/30.1.16.1.spkglmdata.csv\"\r\n"
       ]
      }
     ],
     "prompt_number": 7
    },
    {
     "cell_type": "code",
     "collapsed": true,
     "input": [
      "%load_ext rmagic"
     ],
     "language": "python",
     "metadata": {},
     "outputs": [],
     "prompt_number": 8
    },
    {
     "cell_type": "code",
     "collapsed": false,
     "input": [
      "%R source(\"analyze_spike_glm_output.R\");\n",
      "%Rpull -d effects\n",
      "effects = pd.DataFrame(effects)"
     ],
     "language": "python",
     "metadata": {},
     "outputs": [
      {
       "metadata": {},
       "output_type": "display_data",
       "png": "[encoded data removed]"
      }
     ],
     "prompt_number": 9
    },
    {
     "cell_type": "markdown",
     "metadata": {},
     "source": [
      "### Make some summaries of GLM effects"
     ]
    },
    {
     "cell_type": "markdown",
     "metadata": {},
     "source": [
      "#### Percentage of units with effects of each regressor"
     ]
    },
    {
     "cell_type": "code",
     "collapsed": false,
     "input": [
      "eff_present = (effects != 0).drop('unit', axis=1)\n",
      "nregressors = eff_present.shape[1]\n",
      "(eff_present.sum() / eff_present.count()).plot(linestyle='none', marker='.', markersize=20);\n",
      "plt.xticks(xrange(nregressors), eff_present.columns, rotation='vertical');\n",
      "plt.xlim(-1, nregressors);\n",
      "plt.ylim(0, 1);\n",
      "plt.xlabel('Regressor');\n",
      "plt.ylabel('Fraction of units with effect');"
     ],
     "language": "python",
     "metadata": {},
     "outputs": [
      {
       "metadata": {},
       "output_type": "display_data",
       "png": "[encoded data removed]",
       "text": [
        "<matplotlib.figure.Figure at 0x7fa572c07310>"
       ]
      }
     ],
     "prompt_number": 10
    },
    {
     "cell_type": "markdown",
     "metadata": {},
     "source": [
      "#### Number of regressors in the model for each unit"
     ]
    },
    {
     "cell_type": "code",
     "collapsed": false,
     "input": [
      "nunits = effects.shape[0]\n",
      "eff_present = (effects != 0)\n",
      "(eff_present.sum(axis=1)).plot(kind='hist', bins=10);\n",
      "plt.ylabel('Unit Count');\n",
      "plt.xlabel('Number regressors');"
     ],
     "language": "python",
     "metadata": {},
     "outputs": [
      {
       "metadata": {},
       "output_type": "display_data",
       "png": "[encoded data removed]",
       "text": [
        "<matplotlib.figure.Figure at 0x7fa573800d50>"
       ]
      }
     ],
     "prompt_number": 11
    },
    {
     "cell_type": "markdown",
     "metadata": {},
     "source": [
      "#### Mean absolute effect size (for units where a particular regressor is included)"
     ]
    },
    {
     "cell_type": "code",
     "collapsed": false,
     "input": [
      "eff_df = effects.drop(['unit', 'elapsed_time'], axis=1)\n",
      "nregressors = eff_df.shape[1]\n",
      "(eff_df.abs().sum() / (eff_df != 0).sum()).plot(linestyle='none', marker='.', markersize=20);\n",
      "plt.xticks(xrange(nregressors), eff_df.columns, rotation='vertical');\n",
      "plt.xlim(-1, nregressors);\n",
      "plt.xlabel('Regressor');\n",
      "plt.ylabel('Mean absolute effect size \\n(% change from baseline)');"
     ],
     "language": "python",
     "metadata": {},
     "outputs": [
      {
       "metadata": {},
       "output_type": "display_data",
       "png": "[encoded data removed]",
       "text": [
        "<matplotlib.figure.Figure at 0x7fa5733189d0>"
       ]
      }
     ],
     "prompt_number": 12
    },
    {
     "cell_type": "markdown",
     "metadata": {},
     "source": [
      "#### Task-relatedness of neuron (mean of absolute values of coefficients in model)"
     ]
    },
    {
     "cell_type": "code",
     "collapsed": false,
     "input": [
      "eff_df = effects.drop(['unit', 'elapsed_time'], axis=1)\n",
      "mean_abs_coeff = (eff_df.abs().sum(axis=1) / (eff_df !=0).sum(axis=1)).sort(inplace=False)\n",
      "mean_abs_coeff = mean_abs_coeff[np.isfinite(mean_abs_coeff)]\n",
      "mean_abs_coeff.plot(kind='hist', bins=20);\n",
      "plt.xlabel('Task-relatedness index');\n",
      "plt.ylabel('Unit Count');"
     ],
     "language": "python",
     "metadata": {},
     "outputs": [
      {
       "metadata": {},
       "output_type": "display_data",
       "png": "[encoded data removed]",
       "text": [
        "<matplotlib.figure.Figure at 0x7fa56ced3ad0>"
       ]
      }
     ],
     "prompt_number": 13
    },
    {
     "cell_type": "markdown",
     "metadata": {},
     "source": [
      "#### Power-law behavior of elapsed time regressor"
     ]
    },
    {
     "cell_type": "code",
     "collapsed": false,
     "input": [
      "et_eff = effects['elapsed_time']\n",
      "et_eff = np.log(et_eff/100 + 1)  # actual beta from the regression\n",
      "et_eff.plot(kind='hist', bins=20);\n",
      "plt.xlabel('Elapsed time growth rate power law');\n",
      "plt.ylabel('Unit Count');"
     ],
     "language": "python",
     "metadata": {},
     "outputs": [
      {
       "metadata": {},
       "output_type": "display_data",
       "png": "[encoded data removed]",
       "text": [
        "<matplotlib.figure.Figure at 0x7fa56cf07c50>"
       ]
      }
     ],
     "prompt_number": 14
    },
    {
     "cell_type": "markdown",
     "metadata": {},
     "source": [
      "## make some PSTHs"
     ]
    },
    {
     "cell_type": "code",
     "collapsed": false,
     "input": [
      "unit = 15\n",
      "dtup = tuple(spklist.iloc[unit])\n",
      "spks = dbio.load_spikes(dbname, dtup)\n",
      "evt = dbio.fetch(dbname, 'events', *dtup[0:2])"
     ],
     "language": "python",
     "metadata": {},
     "outputs": [],
     "prompt_number": 15
    },
    {
     "cell_type": "code",
     "collapsed": false,
     "input": [
      "event = 'banked'\n",
      "Tpre = -1\n",
      "Tpost = 2\n",
      "psth = phys.psth(spks, evt[event].dropna(), Tpre, Tpost)\n",
      "phys.smooth(psth, 0.2).plot();"
     ],
     "language": "python",
     "metadata": {},
     "outputs": [
      {
       "metadata": {},
       "output_type": "display_data",
       "png": "[encoded data removed]",
       "text": [
        "<matplotlib.figure.Figure at 0x7fa56ce63390>"
       ]
      }
     ],
     "prompt_number": 16
    },
    {
     "cell_type": "code",
     "collapsed": false,
     "input": [],
     "language": "python",
     "metadata": {},
     "outputs": []
    }
   ],
   "metadata": {}
  }
 ]
}