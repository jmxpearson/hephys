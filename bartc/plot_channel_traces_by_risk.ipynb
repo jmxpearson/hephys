{
 "metadata": {
  "name": "",
  "signature": "sha256:9a2fc4fe07e1781e48ed05a6d84e5a4386b5686c78e3f4f341593923348c870e"
 },
 "nbformat": 3,
 "nbformat_minor": 0,
 "worksheets": [
  {
   "cells": [
    {
     "cell_type": "markdown",
     "metadata": {},
     "source": [
      "# Plot average peri-event per-channel power"
     ]
    },
    {
     "cell_type": "code",
     "collapsed": false,
     "input": [
      "import rpy2.robjects as robjects\n",
      "import pandas.rpy.common as com\n",
      "import pandas as pd\n",
      "import physutils\n",
      "from hephys import dbio\n",
      "import os\n",
      "from __future__ import division"
     ],
     "language": "python",
     "metadata": {},
     "outputs": [],
     "prompt_number": 1
    },
    {
     "cell_type": "code",
     "collapsed": false,
     "input": [
      "# set up relevant params\n",
      "bands = ['theta']  # which bands to limit to\n",
      "event = 'stop inflating'  # event to split data around\n",
      "Tpre = -2  # time before event to grab\n",
      "Tpost = 0.5  # time after event to grab\n",
      "smwid = 0.2  # smoothing window (in s)"
     ],
     "language": "python",
     "metadata": {},
     "outputs": [],
     "prompt_number": 2
    },
    {
     "cell_type": "code",
     "collapsed": false,
     "input": [
      "# which patient, dataset to plot\n",
      "dtup = 20, 1"
     ],
     "language": "python",
     "metadata": {},
     "outputs": [],
     "prompt_number": 3
    },
    {
     "cell_type": "code",
     "collapsed": false,
     "input": [
      "# load data\n",
      "os.chdir(os.path.expanduser('~/code/hephys/bartc'))\n",
      "dbname = os.path.expanduser('~/data/bartc/plexdata/bartc.hdf5')\n",
      "lfp = dbio.fetch_all_such_LFP(dbname, *dtup)"
     ],
     "language": "python",
     "metadata": {},
     "outputs": [],
     "prompt_number": 4
    },
    {
     "cell_type": "code",
     "collapsed": false,
     "input": [
      "# bandpass filter\n",
      "lfp = lfp.bandlimit(bands)"
     ],
     "language": "python",
     "metadata": {},
     "outputs": [],
     "prompt_number": 5
    },
    {
     "cell_type": "code",
     "collapsed": false,
     "input": [
      "# decimate to 100 Hz\n",
      "lfp = lfp.decimate(5)"
     ],
     "language": "python",
     "metadata": {},
     "outputs": [],
     "prompt_number": 6
    },
    {
     "cell_type": "code",
     "collapsed": false,
     "input": [
      "# instantaneous power\n",
      "lfp = lfp.instpwr()"
     ],
     "language": "python",
     "metadata": {},
     "outputs": [],
     "prompt_number": 7
    },
    {
     "cell_type": "code",
     "collapsed": false,
     "input": [
      "# censor\n",
      "lfp = lfp.censor()"
     ],
     "language": "python",
     "metadata": {},
     "outputs": [],
     "prompt_number": 8
    },
    {
     "cell_type": "code",
     "collapsed": false,
     "input": [
      "# zscore to facilitate cross-channel comparisons\n",
      "lfp = lfp.zscore()"
     ],
     "language": "python",
     "metadata": {},
     "outputs": [],
     "prompt_number": 9
    },
    {
     "cell_type": "code",
     "collapsed": false,
     "input": [
      "# get events\n",
      "evt = dbio.fetch(dbname, 'events', *dtup)\n",
      "\n",
      "# restric to non-control trials\n",
      "evt = evt[evt.trial_type.isin([1, 2, 3])]\n",
      "\n",
      "# get only those trials where 'banked' is not NA\n",
      "stopsonly = evt[[event] + ['banked', 'trial_type']].dropna()\n",
      "\n",
      "# retain only trial_type and event\n",
      "stops = stopsonly[[event, 'trial_type']]"
     ],
     "language": "python",
     "metadata": {},
     "outputs": [],
     "prompt_number": 10
    },
    {
     "cell_type": "code",
     "collapsed": false,
     "input": [
      "# split lfp around stops\n",
      "stop_split = lfp.evtsplit(stops[event], Tpre, Tpost)"
     ],
     "language": "python",
     "metadata": {},
     "outputs": [],
     "prompt_number": 11
    },
    {
     "cell_type": "code",
     "collapsed": false,
     "input": [
      "# groupby accepts a list of functions to group by\n",
      "# each function gets an index tuple\n",
      "group_by_trial_type = lambda x: stops.iloc[x[0]].trial_type\n",
      "group_by_time = lambda x: x[1]\n",
      "grpfuns = [group_by_trial_type, group_by_time]\n",
      "grouped = stop_split.groupby(grpfuns)\n",
      "\n",
      "# now get median across all trials for each (type, time, channel)\n",
      "med_by_type = grouped.median()\n",
      "med_across_chans = med_by_type.median(axis=1)\n",
      "\n",
      "# make trial type a column\n",
      "stop_meds = med_across_chans.unstack(level=0)\n",
      "stop_meds.index.name = 'time'\n",
      "stop_meds.columns = map(int, stop_meds.columns)"
     ],
     "language": "python",
     "metadata": {},
     "outputs": [],
     "prompt_number": 12
    },
    {
     "cell_type": "code",
     "collapsed": false,
     "input": [
      "# make peri-stop frame\n",
      "stop_df = physutils.LFPset(stop_meds, meta=lfp.meta.copy()).zscore()\n",
      "stop_df = stop_df.smooth(smwid)"
     ],
     "language": "python",
     "metadata": {},
     "outputs": [],
     "prompt_number": 13
    },
    {
     "cell_type": "code",
     "collapsed": false,
     "input": [
      "# make a dataframe suitable for passing to R\n",
      "rdat = stop_df.copy()\n",
      "rdat = rdat.reset_index()\n",
      "rdat = pd.melt(rdat, id_vars='time')\n",
      "rdf = com.convert_to_r_dataframe(rdat)"
     ],
     "language": "python",
     "metadata": {},
     "outputs": [],
     "prompt_number": 14
    },
    {
     "cell_type": "code",
     "collapsed": false,
     "input": [
      "%matplotlib inline\n",
      "%load_ext rmagic"
     ],
     "language": "python",
     "metadata": {},
     "outputs": []
    },
    {
     "cell_type": "code",
     "collapsed": false,
     "input": [
      "%%R -i rdf\n",
      "source('helpers.R')\n",
      "chanmeans(rdf)"
     ],
     "language": "python",
     "metadata": {},
     "outputs": []
    },
    {
     "cell_type": "code",
     "collapsed": false,
     "input": [],
     "language": "python",
     "metadata": {},
     "outputs": []
    }
   ],
   "metadata": {}
  }
 ]
}