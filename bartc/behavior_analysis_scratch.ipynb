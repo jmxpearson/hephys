{
 "metadata": {
  "name": "",
  "signature": "sha256:b8e7c54735e76a092f66eb331d025937404dc8efb7b8c8e1afe4db36f0006206"
 },
 "nbformat": 3,
 "nbformat_minor": 0,
 "worksheets": [
  {
   "cells": [
    {
     "cell_type": "markdown",
     "metadata": {},
     "source": [
      "Let's analyze some behavior"
     ]
    },
    {
     "cell_type": "code",
     "collapsed": false,
     "input": [
      "from __future__ import division\n",
      "import numpy as np\n",
      "import pandas as pd\n",
      "import physutils as phys\n",
      "import hephys.dbio as dbio\n",
      "import os\n",
      "import matplotlib.pyplot as plt\n",
      "import scipy.stats as stats\n",
      "import scipy.optimize as opt\n",
      "%matplotlib inline"
     ],
     "language": "python",
     "metadata": {},
     "outputs": [],
     "prompt_number": 206
    },
    {
     "cell_type": "code",
     "collapsed": false,
     "input": [
      "# open data file\n",
      "dbname = os.path.expanduser('~/data/bartc/plexdata/bartc.hdf5')\n",
      "\n",
      "# get list of all patient, dataset pairs corresponding to behavior\n",
      "evtlist = pd.read_hdf(dbname, '/meta/evlist')\n",
      "\n",
      "# remove subject 10, who did a previous version of the task\n",
      "evtlist = evtlist.query('patient != 10')"
     ],
     "language": "python",
     "metadata": {},
     "outputs": [],
     "prompt_number": 191
    },
    {
     "cell_type": "code",
     "collapsed": false,
     "input": [
      "# these are the actual values from the task\n",
      "mean_pop_times = np.array([10, 6.5, 3, 6.5])\n",
      "std_pop_times = 0.3 * mean_pop_times"
     ],
     "language": "python",
     "metadata": {},
     "outputs": [],
     "prompt_number": 120
    },
    {
     "cell_type": "code",
     "collapsed": false,
     "input": [
      "dtup = 22, 1\n",
      "\n",
      "evt = dbio.fetch(dbname, 'events', *dtup)"
     ],
     "language": "python",
     "metadata": {},
     "outputs": [],
     "prompt_number": 98
    },
    {
     "cell_type": "markdown",
     "metadata": {},
     "source": [
      "# Try some basic analyses"
     ]
    },
    {
     "cell_type": "markdown",
     "metadata": {},
     "source": [
      "## Mean inflate time for stop trials"
     ]
    },
    {
     "cell_type": "code",
     "collapsed": false,
     "input": [
      "stops_only = evt.query(\"result == 'banked'\")"
     ],
     "language": "python",
     "metadata": {},
     "outputs": [],
     "prompt_number": 99
    },
    {
     "cell_type": "code",
     "collapsed": false,
     "input": [
      "inflate_time_means = stops_only.groupby('trial_type').inflate_time.mean()\n",
      "inflate_time_stds = stops_only.groupby('trial_type').inflate_time.std()"
     ],
     "language": "python",
     "metadata": {},
     "outputs": [],
     "prompt_number": 100
    },
    {
     "cell_type": "markdown",
     "metadata": {},
     "source": [
      "## Plot density of times"
     ]
    },
    {
     "cell_type": "code",
     "collapsed": false,
     "input": [
      "stops_only.groupby('trial_type').inflate_time.plot(kind='kde', legend=True);"
     ],
     "language": "python",
     "metadata": {},
     "outputs": [
      {
       "metadata": {},
       "output_type": "display_data",
       "png": "[encoded data removed]",
       "text": [
        "<matplotlib.figure.Figure at 0x7f3a309810d0>"
       ]
      }
     ],
     "prompt_number": 101
    },
    {
     "cell_type": "markdown",
     "metadata": {},
     "source": [
      "## Get a maximum-likelihood estimate of the mean and standard deviation"
     ]
    },
    {
     "cell_type": "code",
     "collapsed": false,
     "input": [
      "# define a function that takes stop and pop times as arguments and returns a function\n",
      "# giving the log likelihood for a given mean and standard deviation\n",
      "def make_LL_function(stops, pops):\n",
      "    def LLfun(x):\n",
      "        mean, std = x\n",
      "        observed_LL = np.sum(stats.norm.logpdf(stops, loc=mean, scale=std))\n",
      "        cens_LL = np.sum(stats.norm.logsf(pops, loc=mean, scale=std))\n",
      "        return observed_LL + cens_LL\n",
      "    return LLfun"
     ],
     "language": "python",
     "metadata": {},
     "outputs": [],
     "prompt_number": 128
    },
    {
     "cell_type": "code",
     "collapsed": false,
     "input": [
      "# now iterate through dataset, calculating ML estimates for each trial type\n",
      "def fit_subj_pars(evt):\n",
      "    allpars = []\n",
      "    for grpname, grpdf in evt.groupby('trial_type'):\n",
      "        stops = grpdf.query(\"result == 'banked'\").inflate_time.values\n",
      "        pops = grpdf.query(\"result == 'popped'\").inflate_time.values\n",
      "\n",
      "        # get log likelihood function\n",
      "        LLfun = make_LL_function(stops, pops)\n",
      "\n",
      "        # minimize -log(likelihood)\n",
      "        objfun = lambda x: -LLfun(x)\n",
      "\n",
      "        # initial guess\n",
      "        grpind = int(grpname) - 1\n",
      "        x0 = [mean_pop_times[grpind], std_pop_times[grpind]]\n",
      "\n",
      "        # minimize\n",
      "        constraints = [{'type': 'ineq', 'fun': lambda x: x[0] > 0},\n",
      "                       {'type': 'ineq', 'fun': lambda x: x[0] < 20}, \n",
      "                       {'type': 'ineq', 'fun': lambda x: x[1] > 0}]\n",
      "        res = opt.minimize(objfun, x0, constraints=constraints)\n",
      "\n",
      "        # package into series\n",
      "        pars = pd.Series(res.x, index=['mean', 'std'], name=grpname)\n",
      "        allpars.append(pars)\n",
      "\n",
      "    return pd.concat(allpars, axis=1)"
     ],
     "language": "python",
     "metadata": {},
     "outputs": [],
     "prompt_number": 163
    },
    {
     "cell_type": "code",
     "collapsed": false,
     "input": [
      "subjpars = fit_subj_pars(evt)"
     ],
     "language": "python",
     "metadata": {},
     "outputs": [],
     "prompt_number": 164
    },
    {
     "cell_type": "markdown",
     "metadata": {},
     "source": [
      "## Try calculating mean across all subjects, then plot"
     ]
    },
    {
     "cell_type": "code",
     "collapsed": false,
     "input": [
      "# first, do this the naive way, using only stop trials\n",
      "allsubs = []\n",
      "for _, dtup in evtlist.iterrows():\n",
      "    dtup = tuple(dtup)\n",
      "    evt = dbio.fetch(dbname, 'events', *dtup)\n",
      "    \n",
      "    stops_only = evt.query(\"result == 'banked'\")\n",
      "    inflate_time_means = stops_only.groupby('trial_type').inflate_time.mean()\n",
      "    inflate_time_means.name = dtup\n",
      "    \n",
      "    allsubs.append(inflate_time_means)\n",
      "\n",
      "naive_meandat = pd.concat(allsubs, axis=1).transpose()"
     ],
     "language": "python",
     "metadata": {},
     "outputs": [],
     "prompt_number": 157
    },
    {
     "cell_type": "code",
     "collapsed": false,
     "input": [
      "xpos = [1, 2, 3, 4]\n",
      "plt.plot(xpos, mean_pop_times, marker='^', linestyle='none', markersize=10,\n",
      "         color='r');\n",
      "plt.plot(xpos, naive_meandat.values.T, marker='.', linestyle='none');\n",
      "plt.xlim([0, 5]);\n",
      "plt.ylim([0, 12]);\n",
      "plt.xticks(xpos, ['Low', 'Medium', 'High', 'Control']);\n",
      "plt.xlabel('Risk Condition');\n",
      "plt.ylabel('Per-subject Mean (s)');"
     ],
     "language": "python",
     "metadata": {},
     "outputs": [
      {
       "metadata": {},
       "output_type": "display_data",
       "png": "[encoded data removed]",
       "text": [
        "<matplotlib.figure.Figure at 0x7f3a30a00210>"
       ]
      }
     ],
     "prompt_number": 195
    },
    {
     "cell_type": "code",
     "collapsed": false,
     "input": [
      "# now incorporate censored data\n",
      "allsubs = []\n",
      "for _, dtup in evtlist.iterrows():\n",
      "    dtup = tuple(dtup)\n",
      "    evt = dbio.fetch(dbname, 'events', *dtup)\n",
      "    \n",
      "    subjpars = fit_subj_pars(evt)\n",
      "    \n",
      "    allsubs.append(subjpars.loc['mean'])\n",
      "\n",
      "meandat = pd.concat(allsubs, axis=1).transpose()"
     ],
     "language": "python",
     "metadata": {},
     "outputs": [],
     "prompt_number": 166
    },
    {
     "cell_type": "code",
     "collapsed": false,
     "input": [
      "xpos = [1, 2, 3, 4]\n",
      "plt.plot(xpos, mean_pop_times, marker='^', linestyle='none', markersize=10,\n",
      "         color='r');\n",
      "plt.plot(xpos, meandat.values.T, marker='.', linestyle='none');\n",
      "plt.xlim([0, 5]);\n",
      "plt.ylim([0, 12]);\n",
      "plt.xticks(xpos, ['Low', 'Medium', 'High', 'Control']);\n",
      "plt.xlabel('Risk Condition');\n",
      "plt.ylabel('Mean Inflate Time (s)');"
     ],
     "language": "python",
     "metadata": {},
     "outputs": [
      {
       "metadata": {},
       "output_type": "display_data",
       "png": "[encoded data removed]",
       "text": [
        "<matplotlib.figure.Figure at 0x7f3a30827990>"
       ]
      }
     ],
     "prompt_number": 226
    },
    {
     "cell_type": "code",
     "collapsed": false,
     "input": [
      "print \"Difference due to censoring correction:\"\n",
      "meandat.mean() - naive_meandat.mean()"
     ],
     "language": "python",
     "metadata": {},
     "outputs": [
      {
       "output_type": "stream",
       "stream": "stdout",
       "text": [
        "Difference due to censoring correction:\n"
       ]
      },
      {
       "metadata": {},
       "output_type": "pyout",
       "prompt_number": 173,
       "text": [
        "1    0.640105\n",
        "2    0.232053\n",
        "3    0.774271\n",
        "4    0.000056\n",
        "dtype: float64"
       ]
      }
     ],
     "prompt_number": 173
    },
    {
     "cell_type": "markdown",
     "metadata": {},
     "source": [
      "## Get fraction of pop trials for each subject"
     ]
    },
    {
     "cell_type": "code",
     "collapsed": false,
     "input": [
      "def calc_pop_frac(evt):\n",
      "    return evt.query(\"result == 'popped'\").shape[0] / evt.shape[0]"
     ],
     "language": "python",
     "metadata": {},
     "outputs": [],
     "prompt_number": 213
    },
    {
     "cell_type": "code",
     "collapsed": false,
     "input": [
      "allsubs = []\n",
      "for _, dtup in evtlist.iterrows():\n",
      "    dtup = tuple(dtup)\n",
      "    evt = dbio.fetch(dbname, 'events', *dtup)\n",
      "    \n",
      "    subjpars = evt.groupby('trial_type').apply(calc_pop_frac)\n",
      "    \n",
      "    allsubs.append(subjpars)\n",
      "\n",
      "popfrac = pd.concat(allsubs, axis=1).transpose()\n",
      "popfrac = popfrac.drop(4, axis=1)  # drop control condition"
     ],
     "language": "python",
     "metadata": {},
     "outputs": [],
     "prompt_number": 215
    },
    {
     "cell_type": "code",
     "collapsed": false,
     "input": [
      "xpos = [1, 2, 3]\n",
      "plt.plot(xpos, popfrac.median(), marker='^', linestyle='none', markersize=10,\n",
      "         color='r');\n",
      "plt.plot(xpos, popfrac.values.T, marker='.', linestyle='none');\n",
      "plt.xlim([0, 4]);\n",
      "plt.ylim([0, 1]);\n",
      "plt.xticks(xpos, ['Low', 'Medium', 'High', 'Control']);\n",
      "plt.xlabel('Risk Condition');\n",
      "plt.ylabel('Median Fraction Pop Trials');"
     ],
     "language": "python",
     "metadata": {},
     "outputs": [
      {
       "metadata": {},
       "output_type": "display_data",
       "png": "[encoded data removed]",
       "text": [
        "<matplotlib.figure.Figure at 0x7f3a30d4d950>"
       ]
      }
     ],
     "prompt_number": 225
    },
    {
     "cell_type": "code",
     "collapsed": false,
     "input": [],
     "language": "python",
     "metadata": {},
     "outputs": []
    }
   ],
   "metadata": {}
  }
 ]
}