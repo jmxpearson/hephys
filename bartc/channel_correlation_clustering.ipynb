{
 "metadata": {
  "name": "",
  "signature": "sha256:e6f5e99285d903b5f2a8e84c95d590e015f8801a31838606b291e6b2589c88da"
 },
 "nbformat": 3,
 "nbformat_minor": 0,
 "worksheets": [
  {
   "cells": [
    {
     "cell_type": "heading",
     "level": 1,
     "metadata": {},
     "source": [
      "Clustering channels by correlation"
     ]
    },
    {
     "cell_type": "markdown",
     "metadata": {},
     "source": [
      "The goal here is to cluster channels in a multichannel recording together based on how correlated they are."
     ]
    },
    {
     "cell_type": "code",
     "collapsed": false,
     "input": [
      "import numpy as np\n",
      "import pandas as pd\n",
      "import physutils as phys\n",
      "import physutils.bootstrap as boot\n",
      "import physutils.tf as tf\n",
      "import matplotlib.pyplot as plt\n",
      "import hephys.dbio as dbio\n",
      "import scipy.cluster.hierarchy as clus\n",
      "import scipy.spatial.distance as dist\n",
      "%matplotlib inline"
     ],
     "language": "python",
     "metadata": {},
     "outputs": [],
     "prompt_number": 32
    },
    {
     "cell_type": "markdown",
     "metadata": {},
     "source": [
      "Grab some LFP data:"
     ]
    },
    {
     "cell_type": "code",
     "collapsed": false,
     "input": [
      "import os\n",
      "dbname = os.path.expanduser('~/data/bartc/plexdata/bartc.hdf5')\n",
      "dtup = 18, 1\n",
      "lfp = dbio.fetch_all_such_LFP(dbname, *dtup)"
     ],
     "language": "python",
     "metadata": {},
     "outputs": [],
     "prompt_number": 56
    },
    {
     "cell_type": "markdown",
     "metadata": {},
     "source": [
      "Next order of business: get rid of artifacts."
     ]
    },
    {
     "cell_type": "code",
     "collapsed": false,
     "input": [
      "lfp = lfp.censor()"
     ],
     "language": "python",
     "metadata": {},
     "outputs": [],
     "prompt_number": 57
    },
    {
     "cell_type": "code",
     "collapsed": false,
     "input": [
      "lfp = lfp.interpolate().fillna(0)"
     ],
     "language": "python",
     "metadata": {},
     "outputs": [],
     "prompt_number": 58
    },
    {
     "cell_type": "code",
     "collapsed": false,
     "input": [
      "# array fed to corrcoef has variables in rows\n",
      "Rmat = np.corrcoef(lfp.values.T)"
     ],
     "language": "python",
     "metadata": {},
     "outputs": [],
     "prompt_number": 60
    },
    {
     "cell_type": "code",
     "collapsed": false,
     "input": [
      "D = 1 - Rmat ** 2"
     ],
     "language": "python",
     "metadata": {},
     "outputs": [],
     "prompt_number": 61
    },
    {
     "cell_type": "code",
     "collapsed": false,
     "input": [
      "Z = clus.linkage(D)\n",
      "dend = clus.dendrogram(Z);"
     ],
     "language": "python",
     "metadata": {},
     "outputs": [
      {
       "metadata": {},
       "output_type": "display_data",
       "png": "[encoded data removed]",
       "text": [
        "<matplotlib.figure.Figure at 0x11f65cf90>"
       ]
      }
     ],
     "prompt_number": 62
    },
    {
     "cell_type": "code",
     "collapsed": false,
     "input": [
      "Rsorted = Rmat[np.ix_(dend['leaves'], dend['leaves'])]\n",
      "plt.matshow(Rsorted);\n",
      "plt.colorbar();"
     ],
     "language": "python",
     "metadata": {},
     "outputs": [
      {
       "metadata": {},
       "output_type": "display_data",
       "png": "[encoded data removed]",
       "text": [
        "<matplotlib.figure.Figure at 0x1120ac990>"
       ]
      }
     ],
     "prompt_number": 63
    },
    {
     "cell_type": "code",
     "collapsed": false,
     "input": [
      "np.ix_(dend['leaves'], dend['leaves'])"
     ],
     "language": "python",
     "metadata": {},
     "outputs": [
      {
       "metadata": {},
       "output_type": "pyout",
       "prompt_number": 64,
       "text": [
        "(array([[26],\n",
        "        [ 9],\n",
        "        [10],\n",
        "        [21],\n",
        "        [31],\n",
        "        [ 4],\n",
        "        [18],\n",
        "        [22],\n",
        "        [14],\n",
        "        [16],\n",
        "        [19],\n",
        "        [ 1],\n",
        "        [ 2],\n",
        "        [ 3],\n",
        "        [ 0],\n",
        "        [17],\n",
        "        [20],\n",
        "        [24],\n",
        "        [15],\n",
        "        [ 5],\n",
        "        [25],\n",
        "        [28],\n",
        "        [29],\n",
        "        [23],\n",
        "        [27],\n",
        "        [11],\n",
        "        [30],\n",
        "        [ 6],\n",
        "        [ 8],\n",
        "        [ 7],\n",
        "        [12],\n",
        "        [13]]),\n",
        " array([[26,  9, 10, 21, 31,  4, 18, 22, 14, 16, 19,  1,  2,  3,  0, 17, 20,\n",
        "         24, 15,  5, 25, 28, 29, 23, 27, 11, 30,  6,  8,  7, 12, 13]]))"
       ]
      }
     ],
     "prompt_number": 64
    },
    {
     "cell_type": "code",
     "collapsed": false,
     "input": [],
     "language": "python",
     "metadata": {},
     "outputs": [],
     "prompt_number": 40
    }
   ],
   "metadata": {}
  }
 ]
}