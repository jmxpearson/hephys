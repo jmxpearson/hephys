{
 "metadata": {
  "name": "",
  "signature": "sha256:330ffe77acc0a7fd6bfa299f7e97da725929bb8712347ae5145b459f87ba8e9c"
 },
 "nbformat": 3,
 "nbformat_minor": 0,
 "worksheets": [
  {
   "cells": [
    {
     "cell_type": "heading",
     "level": 1,
     "metadata": {},
     "source": [
      "Clustering channels by correlation"
     ]
    },
    {
     "cell_type": "markdown",
     "metadata": {},
     "source": [
      "The goal here is to cluster channels in a multichannel recording together based on how correlated they are."
     ]
    },
    {
     "cell_type": "code",
     "collapsed": false,
     "input": [
      "import numpy as np\n",
      "import pandas as pd\n",
      "import physutils as phys\n",
      "import physutils.bootstrap as boot\n",
      "import physutils.tf as tf\n",
      "import matplotlib.pyplot as plt\n",
      "import hephys.dbio as dbio\n",
      "import scipy.cluster.hierarchy as clus\n",
      "import scipy.spatial.distance as dist\n",
      "%matplotlib inline"
     ],
     "language": "python",
     "metadata": {},
     "outputs": [],
     "prompt_number": 40
    },
    {
     "cell_type": "markdown",
     "metadata": {},
     "source": [
      "Grab some LFP data:"
     ]
    },
    {
     "cell_type": "code",
     "collapsed": false,
     "input": [
      "import os\n",
      "dbname = os.path.expanduser('~/data/bartc/plexdata/bartc.hdf5')\n",
      "dtup = 17, 2\n",
      "lfp = dbio.fetch_all_such_LFP(dbname, *dtup)"
     ],
     "language": "python",
     "metadata": {},
     "outputs": [],
     "prompt_number": 2
    },
    {
     "cell_type": "markdown",
     "metadata": {},
     "source": [
      "Next order of business: get rid of artifacts."
     ]
    },
    {
     "cell_type": "code",
     "collapsed": false,
     "input": [
      "lfp = lfp.censor()"
     ],
     "language": "python",
     "metadata": {},
     "outputs": [],
     "prompt_number": 3
    },
    {
     "cell_type": "code",
     "collapsed": false,
     "input": [
      "lfp = lfp.interpolate()"
     ],
     "language": "python",
     "metadata": {},
     "outputs": [],
     "prompt_number": 22
    },
    {
     "cell_type": "code",
     "collapsed": false,
     "input": [
      "# array fed to corrcoef has variables in rows\n",
      "Rmat = np.corrcoef(lfp.dataframe.values.T)"
     ],
     "language": "python",
     "metadata": {},
     "outputs": [],
     "prompt_number": 23
    },
    {
     "cell_type": "code",
     "collapsed": false,
     "input": [
      "D = 1 - Rmat ** 2"
     ],
     "language": "python",
     "metadata": {},
     "outputs": [],
     "prompt_number": 65
    },
    {
     "cell_type": "code",
     "collapsed": false,
     "input": [
      "Z = clus.linkage(dist.squareform(Dvec))\n",
      "dend = clus.dendrogram(Z);"
     ],
     "language": "python",
     "metadata": {},
     "outputs": [
      {
       "metadata": {},
       "output_type": "display_data",
       "png": "[encoded data removed]",
       "text": [
        "<matplotlib.figure.Figure at 0x6d04c90>"
       ]
      }
     ],
     "prompt_number": 66
    },
    {
     "cell_type": "code",
     "collapsed": false,
     "input": [
      "idx = np.meshgrid(dend['leaves'], dend['leaves'])\n",
      "Rsorted = Rmat[idx[0], idx[1]]\n",
      "plt.matshow(Rsorted);\n",
      "plt.colorbar()"
     ],
     "language": "python",
     "metadata": {},
     "outputs": [
      {
       "metadata": {},
       "output_type": "pyout",
       "prompt_number": 99,
       "text": [
        "<matplotlib.colorbar.Colorbar instance at 0x36fa6ef0>"
       ]
      },
      {
       "metadata": {},
       "output_type": "display_data",
       "png": "[encoded data removed]",
       "text": [
        "<matplotlib.figure.Figure at 0x107dd790>"
       ]
      }
     ],
     "prompt_number": 99
    },
    {
     "cell_type": "code",
     "collapsed": false,
     "input": [],
     "language": "python",
     "metadata": {},
     "outputs": []
    }
   ],
   "metadata": {}
  }
 ]
}